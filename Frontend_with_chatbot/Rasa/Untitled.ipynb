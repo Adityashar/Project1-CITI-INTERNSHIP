{
 "cells": [
  {
   "cell_type": "code",
   "execution_count": 5,
   "metadata": {},
   "outputs": [
    {
     "name": "stdout",
     "output_type": "stream",
     "text": [
      "Collecting flask-MySQLdb\n",
      "  Using cached Flask-MySQLdb-0.2.0.tar.gz (2.1 kB)\n",
      "Requirement already satisfied: Flask>=0.10 in c:\\programdata\\anaconda3\\lib\\site-packages (from flask-MySQLdb) (1.1.1)\n",
      "Collecting mysqlclient\n",
      "  Downloading mysqlclient-1.4.6-cp37-cp37m-win_amd64.whl (262 kB)\n",
      "Requirement already satisfied: Werkzeug>=0.15 in c:\\programdata\\anaconda3\\lib\\site-packages (from Flask>=0.10->flask-MySQLdb) (1.0.0)\n",
      "Requirement already satisfied: Jinja2>=2.10.1 in c:\\programdata\\anaconda3\\lib\\site-packages (from Flask>=0.10->flask-MySQLdb) (2.11.1)\n",
      "Requirement already satisfied: itsdangerous>=0.24 in c:\\programdata\\anaconda3\\lib\\site-packages (from Flask>=0.10->flask-MySQLdb) (1.1.0)\n",
      "Requirement already satisfied: click>=5.1 in c:\\programdata\\anaconda3\\lib\\site-packages (from Flask>=0.10->flask-MySQLdb) (7.0)\n",
      "Requirement already satisfied: MarkupSafe>=0.23 in c:\\programdata\\anaconda3\\lib\\site-packages (from Jinja2>=2.10.1->Flask>=0.10->flask-MySQLdb) (1.1.1)\n",
      "Building wheels for collected packages: flask-MySQLdb\n",
      "  Building wheel for flask-MySQLdb (setup.py): started\n",
      "  Building wheel for flask-MySQLdb (setup.py): finished with status 'done'\n",
      "  Created wheel for flask-MySQLdb: filename=Flask_MySQLdb-0.2.0-py3-none-any.whl size=2671 sha256=8bca0dbefe4421e2262690eb0f2571cbd4822c4774202601401d6a6fb6fcc1cb\n",
      "  Stored in directory: c:\\users\\deepika\\appdata\\local\\pip\\cache\\wheels\\9c\\62\\6a\\75e62f265376c37492fa1dab360f0a15a3fb835f1576cf25b2\n",
      "Successfully built flask-MySQLdb\n",
      "Installing collected packages: mysqlclient, flask-MySQLdb\n",
      "Successfully installed flask-MySQLdb-0.2.0 mysqlclient-1.4.6\n"
     ]
    }
   ],
   "source": [
    "!pip install flask-MySQLdb"
   ]
  }
 ],
 "metadata": {
  "kernelspec": {
   "display_name": "Python 3",
   "language": "python",
   "name": "python3"
  },
  "language_info": {
   "codemirror_mode": {
    "name": "ipython",
    "version": 3
   },
   "file_extension": ".py",
   "mimetype": "text/x-python",
   "name": "python",
   "nbconvert_exporter": "python",
   "pygments_lexer": "ipython3",
   "version": "3.7.6"
  }
 },
 "nbformat": 4,
 "nbformat_minor": 4
}
