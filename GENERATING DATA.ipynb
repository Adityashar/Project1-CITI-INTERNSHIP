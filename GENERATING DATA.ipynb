{
 "cells": [
  {
   "cell_type": "code",
   "execution_count": 3,
   "metadata": {},
   "outputs": [],
   "source": [
    "import numpy as np\n",
    "import pandas as pd"
   ]
  },
  {
   "cell_type": "code",
   "execution_count": 168,
   "metadata": {},
   "outputs": [
    {
     "data": {
      "text/html": [
       "<div>\n",
       "<style scoped>\n",
       "    .dataframe tbody tr th:only-of-type {\n",
       "        vertical-align: middle;\n",
       "    }\n",
       "\n",
       "    .dataframe tbody tr th {\n",
       "        vertical-align: top;\n",
       "    }\n",
       "\n",
       "    .dataframe thead th {\n",
       "        text-align: right;\n",
       "    }\n",
       "</style>\n",
       "<table border=\"1\" class=\"dataframe\">\n",
       "  <thead>\n",
       "    <tr style=\"text-align: right;\">\n",
       "      <th></th>\n",
       "      <th>Unique Id</th>\n",
       "      <th>Client Name</th>\n",
       "      <th>Account ID</th>\n",
       "      <th>Legal Entity</th>\n",
       "      <th>Currency</th>\n",
       "      <th>Payment Type</th>\n",
       "      <th>Paid Amount</th>\n",
       "      <th>Payment Date</th>\n",
       "      <th>Payment Status</th>\n",
       "      <th>Pending Amount</th>\n",
       "      <th>Comments</th>\n",
       "    </tr>\n",
       "  </thead>\n",
       "  <tbody>\n",
       "    <tr>\n",
       "      <th>0</th>\n",
       "      <td>1</td>\n",
       "      <td>J P Morgan</td>\n",
       "      <td>101008</td>\n",
       "      <td>CitiBank New York Branch</td>\n",
       "      <td>GBP</td>\n",
       "      <td>Receive</td>\n",
       "      <td>45678</td>\n",
       "      <td>2020-03-11</td>\n",
       "      <td>Fully paid</td>\n",
       "      <td>0</td>\n",
       "      <td>Transaction complete</td>\n",
       "    </tr>\n",
       "    <tr>\n",
       "      <th>1</th>\n",
       "      <td>2</td>\n",
       "      <td>J P Morgan</td>\n",
       "      <td>105049</td>\n",
       "      <td>CitiBank New York Branch</td>\n",
       "      <td>USD</td>\n",
       "      <td>Receive</td>\n",
       "      <td>765327</td>\n",
       "      <td>2020-03-12</td>\n",
       "      <td>Partially Paid</td>\n",
       "      <td>1008</td>\n",
       "      <td>Waiting for pending amount</td>\n",
       "    </tr>\n",
       "    <tr>\n",
       "      <th>2</th>\n",
       "      <td>3</td>\n",
       "      <td>DEUTSCHE BANK</td>\n",
       "      <td>105050</td>\n",
       "      <td>CitiBank HongKong</td>\n",
       "      <td>CAD</td>\n",
       "      <td>Receive</td>\n",
       "      <td>637229</td>\n",
       "      <td>2020-03-13</td>\n",
       "      <td>Partially Paid</td>\n",
       "      <td>34566</td>\n",
       "      <td>Waiting for pending amount</td>\n",
       "    </tr>\n",
       "    <tr>\n",
       "      <th>3</th>\n",
       "      <td>4</td>\n",
       "      <td>DEUTSCHE BANK</td>\n",
       "      <td>105058</td>\n",
       "      <td>CitiBank New York Branch</td>\n",
       "      <td>USD</td>\n",
       "      <td>Receive</td>\n",
       "      <td>22345566</td>\n",
       "      <td>2020-03-14</td>\n",
       "      <td>Partially Paid</td>\n",
       "      <td>1000000</td>\n",
       "      <td>Waiting for pending amount</td>\n",
       "    </tr>\n",
       "    <tr>\n",
       "      <th>4</th>\n",
       "      <td>5</td>\n",
       "      <td>DEUTSCHE BANK</td>\n",
       "      <td>105059</td>\n",
       "      <td>CitiBank New York Branch</td>\n",
       "      <td>EUR</td>\n",
       "      <td>Receive</td>\n",
       "      <td>553322</td>\n",
       "      <td>2020-03-15</td>\n",
       "      <td>Rejected</td>\n",
       "      <td>553322</td>\n",
       "      <td>Payment Failed</td>\n",
       "    </tr>\n",
       "  </tbody>\n",
       "</table>\n",
       "</div>"
      ],
      "text/plain": [
       "   Unique Id    Client Name  Account ID              Legal Entity Currency  \\\n",
       "0          1     J P Morgan      101008  CitiBank New York Branch      GBP   \n",
       "1          2     J P Morgan      105049  CitiBank New York Branch      USD   \n",
       "2          3  DEUTSCHE BANK      105050         CitiBank HongKong      CAD   \n",
       "3          4  DEUTSCHE BANK      105058  CitiBank New York Branch      USD   \n",
       "4          5  DEUTSCHE BANK      105059  CitiBank New York Branch      EUR   \n",
       "\n",
       "  Payment Type  Paid Amount Payment Date  Payment Status  Pending Amount  \\\n",
       "0      Receive        45678   2020-03-11      Fully paid               0   \n",
       "1      Receive       765327   2020-03-12  Partially Paid            1008   \n",
       "2      Receive       637229   2020-03-13  Partially Paid           34566   \n",
       "3      Receive     22345566   2020-03-14  Partially Paid         1000000   \n",
       "4      Receive       553322   2020-03-15        Rejected          553322   \n",
       "\n",
       "                     Comments  \n",
       "0        Transaction complete  \n",
       "1  Waiting for pending amount  \n",
       "2  Waiting for pending amount  \n",
       "3  Waiting for pending amount  \n",
       "4              Payment Failed  "
      ]
     },
     "execution_count": 168,
     "metadata": {},
     "output_type": "execute_result"
    }
   ],
   "source": [
    "data = pd.read_excel('C:\\\\Users\\\\Asus\\\\Documents\\\\SEM VI\\\\CITI\\\\Project\\\\data.xlsx', index = False)\n",
    "data[:5]"
   ]
  },
  {
   "cell_type": "code",
   "execution_count": 129,
   "metadata": {},
   "outputs": [
    {
     "data": {
      "text/plain": [
       "(count        20.000000\n",
       " mean     104901.450000\n",
       " std         917.150247\n",
       " min      101008.000000\n",
       " 25%      105060.500000\n",
       " 50%      105117.500000\n",
       " 75%      105128.250000\n",
       " max      105170.000000\n",
       " Name: Account ID, dtype: float64, (20, 11))"
      ]
     },
     "execution_count": 129,
     "metadata": {},
     "output_type": "execute_result"
    }
   ],
   "source": [
    "data['Account ID'].describe(), data.shape"
   ]
  },
  {
   "cell_type": "code",
   "execution_count": 138,
   "metadata": {},
   "outputs": [
    {
     "name": "stdout",
     "output_type": "stream",
     "text": [
      "Index(['Client Name', 'Account ID', 'Legal Entity', 'Currency', 'Payment Type',\n",
      "       'Paid Amount', 'Payment Date', 'Payment Status', 'Pending Amount',\n",
      "       'Comments'],\n",
      "      dtype='object')\n"
     ]
    }
   ],
   "source": [
    "import os\n",
    "\n",
    "location = 'C:\\\\Users\\\\Asus\\\\Documents\\\\SEM VI\\\\CITI\\\\Project\\\\Data'\n",
    "files_list = os.listdir(location)\n",
    "DATASET = data.drop(columns=['Unique Id'], axis = 1)\n",
    "# DATASET.rename(columns={'ClientÂ  Name' : 'ClientName'}, inplace = True)\n",
    "\n",
    "print(DATASET.columns)\n",
    "\n",
    "for file in files_list:\n",
    "    name = os.path.join(location, file)\n",
    "    df = pd.read_excel(name, index = False)\n",
    "    DATASET = pd.concat([DATASET, df], axis = 0, ignore_index=True)\n"
   ]
  },
  {
   "cell_type": "code",
   "execution_count": 145,
   "metadata": {},
   "outputs": [],
   "source": [
    "DATASET.drop_duplicates(['Account ID'], inplace=True)\n",
    "\n",
    "DATASET.loc[DATASET[\"Payment Status\"] == 'Fully paid', 'Pending Amount'] = 0\n",
    "DATASET.loc[DATASET[\"Payment Status\"] == 'Fully paid', 'Comments'] = 'Transaction complete'\n",
    "\n",
    "DATASET.reset_index(drop=True, inplace=True)"
   ]
  },
  {
   "cell_type": "code",
   "execution_count": 194,
   "metadata": {},
   "outputs": [
    {
     "data": {
      "text/plain": [
       "str"
      ]
     },
     "execution_count": 194,
     "metadata": {},
     "output_type": "execute_result"
    }
   ],
   "source": [
    "from datetime import datetime\n",
    "\n",
    "DATASET['Payment Date'][20:] = DATASET['Payment Date'][20:].apply(lambda data : datetime.strptime(str(data), \"%Y/%m/%d\"))\n",
    "DATASET['Payment Date'] = DATASET['Payment Date'].apply(lambda data : str(data)[:11])\n",
    "\n",
    "type(DATASET['Payment Date'][11])"
   ]
  },
  {
   "cell_type": "code",
   "execution_count": 196,
   "metadata": {},
   "outputs": [
    {
     "data": {
      "text/plain": [
       "0      2020-03-11 \n",
       "1      2020-03-12 \n",
       "2      2020-03-13 \n",
       "3      2020-03-14 \n",
       "4      2020-03-15 \n",
       "5      2020-03-16 \n",
       "6      2020-03-07 \n",
       "7      2020-03-08 \n",
       "8      2020-03-09 \n",
       "9      2020-03-10 \n",
       "10     2020-04-11 \n",
       "11     2020-03-12 \n",
       "12     2020-03-13 \n",
       "13     2020-03-14 \n",
       "14     2020-06-01 \n",
       "15     2020-03-16 \n",
       "16     2020-03-17 \n",
       "17     2020-06-10 \n",
       "18     2020-03-19 \n",
       "19     2020-03-20 \n",
       "20     2020-04-02 \n",
       "21     2020-04-17 \n",
       "22     2020-03-20 \n",
       "23     2020-05-10 \n",
       "24     2020-02-22 \n",
       "25     2020-04-05 \n",
       "26     2020-02-26 \n",
       "27     2020-04-14 \n",
       "28     2020-06-06 \n",
       "29     2020-05-21 \n",
       "          ...     \n",
       "890    2020-05-23 \n",
       "891    2020-03-03 \n",
       "892    2020-05-28 \n",
       "893    2020-04-18 \n",
       "894    2020-05-11 \n",
       "895    2020-06-07 \n",
       "896    2020-02-23 \n",
       "897    2020-02-29 \n",
       "898    2020-05-13 \n",
       "899    2020-02-25 \n",
       "900    2020-03-16 \n",
       "901    2020-05-17 \n",
       "902    2020-04-15 \n",
       "903    2020-05-23 \n",
       "904    2020-02-26 \n",
       "905    2020-03-11 \n",
       "906    2020-03-16 \n",
       "907    2020-05-12 \n",
       "908    2020-03-27 \n",
       "909    2020-03-10 \n",
       "910    2020-05-21 \n",
       "911    2020-03-14 \n",
       "912    2020-05-11 \n",
       "913    2020-05-24 \n",
       "914    2020-06-02 \n",
       "915    2020-05-27 \n",
       "916    2020-02-21 \n",
       "917    2020-05-11 \n",
       "918    2020-04-25 \n",
       "919    2020-04-30 \n",
       "Name: Payment Date, Length: 920, dtype: object"
      ]
     },
     "execution_count": 196,
     "metadata": {},
     "output_type": "execute_result"
    }
   ],
   "source": [
    "DATASET['Payment Date']"
   ]
  },
  {
   "cell_type": "code",
   "execution_count": 197,
   "metadata": {},
   "outputs": [],
   "source": [
    "DATASET.to_csv('C:\\\\Users\\\\Asus\\\\Documents\\\\SEM VI\\\\CITI\\\\Project\\\\dataset.csv')"
   ]
  },
  {
   "cell_type": "code",
   "execution_count": 188,
   "metadata": {},
   "outputs": [],
   "source": [
    "questions = pd.read_pickle('C:\\\\Users\\\\Asus\\\\Documents\\\\SEM VI\\\\CITI\\\\Project\\\\questions.pkl')"
   ]
  },
  {
   "cell_type": "code",
   "execution_count": null,
   "metadata": {},
   "outputs": [],
   "source": []
  },
  {
   "cell_type": "code",
   "execution_count": null,
   "metadata": {},
   "outputs": [],
   "source": []
  }
 ],
 "metadata": {
  "kernelspec": {
   "display_name": "Python 3",
   "language": "python",
   "name": "python3"
  },
  "language_info": {
   "codemirror_mode": {
    "name": "ipython",
    "version": 3
   },
   "file_extension": ".py",
   "mimetype": "text/x-python",
   "name": "python",
   "nbconvert_exporter": "python",
   "pygments_lexer": "ipython3",
   "version": "3.7.3"
  }
 },
 "nbformat": 4,
 "nbformat_minor": 2
}
