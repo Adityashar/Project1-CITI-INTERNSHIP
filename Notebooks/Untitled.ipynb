{
 "cells": [
  {
   "cell_type": "code",
   "execution_count": 2,
   "metadata": {},
   "outputs": [],
   "source": [
    "import numpy as np\n",
    "import pickle"
   ]
  },
  {
   "cell_type": "code",
   "execution_count": 4,
   "metadata": {},
   "outputs": [],
   "source": [
    "with open(\"dict.pkl\", \"rb\") as d:\n",
    "    dict = pickle.load(d)"
   ]
  },
  {
   "cell_type": "code",
   "execution_count": 8,
   "metadata": {},
   "outputs": [
    {
     "name": "stdout",
     "output_type": "stream",
     "text": [
      "(19000, 11461)\n"
     ]
    }
   ],
   "source": [
    "print(dict.shape)"
   ]
  },
  {
   "cell_type": "code",
   "execution_count": 6,
   "metadata": {},
   "outputs": [],
   "source": [
    "with open(\"vec.pkl\", \"rb\") as v:\n",
    "    data = pickle.load(v)"
   ]
  },
  {
   "cell_type": "code",
   "execution_count": 9,
   "metadata": {},
   "outputs": [
    {
     "name": "stdout",
     "output_type": "stream",
     "text": [
      "(19000, 11461)\n"
     ]
    }
   ],
   "source": [
    "print(data.shape)"
   ]
  },
  {
   "cell_type": "code",
   "execution_count": 10,
   "metadata": {},
   "outputs": [
    {
     "name": "stdout",
     "output_type": "stream",
     "text": [
      "  (0, 4522)\t1\n",
      "  (0, 10527)\t1\n",
      "  (0, 6722)\t1\n",
      "  (0, 8445)\t1\n",
      "  (0, 7879)\t1\n",
      "  (0, 10521)\t1\n",
      "  (0, 6939)\t1\n",
      "  (0, 4521)\t1\n",
      "  (0, 10526)\t1\n",
      "  (0, 6721)\t1\n",
      "  (0, 8444)\t1\n",
      "  (0, 7878)\t1\n",
      "  (0, 10520)\t1\n",
      "  (0, 326)\t1\n",
      "  (0, 6938)\t1\n",
      "  (0, 4520)\t1\n",
      "  (0, 10525)\t1\n",
      "  (0, 6720)\t1\n",
      "  (0, 8437)\t1\n",
      "  (0, 7875)\t1\n",
      "  (0, 10519)\t1\n"
     ]
    }
   ],
   "source": [
    "print(dict[0])"
   ]
  }
 ],
 "metadata": {
  "kernelspec": {
   "display_name": "Python 3",
   "language": "python",
   "name": "python3"
  },
  "language_info": {
   "codemirror_mode": {
    "name": "ipython",
    "version": 3
   },
   "file_extension": ".py",
   "mimetype": "text/x-python",
   "name": "python",
   "nbconvert_exporter": "python",
   "pygments_lexer": "ipython3",
   "version": "3.5.2"
  }
 },
 "nbformat": 4,
 "nbformat_minor": 2
}
