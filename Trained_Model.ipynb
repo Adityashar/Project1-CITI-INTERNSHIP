{
  "nbformat": 4,
  "nbformat_minor": 0,
  "metadata": {
    "kernelspec": {
      "display_name": "Python 3",
      "language": "python",
      "name": "python3"
    },
    "language_info": {
      "codemirror_mode": {
        "name": "ipython",
        "version": 3
      },
      "file_extension": ".py",
      "mimetype": "text/x-python",
      "name": "python",
      "nbconvert_exporter": "python",
      "pygments_lexer": "ipython3",
      "version": "3.5.2"
    },
    "colab": {
      "name": "Trained Model",
      "provenance": []
    },
    "accelerator": "GPU"
  },
  "cells": [
    {
      "cell_type": "code",
      "metadata": {
        "id": "rBU73Ghxipf2",
        "colab_type": "code",
        "colab": {
          "base_uri": "https://localhost:8080/",
          "height": 122
        },
        "outputId": "399ee67b-bcd8-45e2-92af-c81ac981b12c"
      },
      "source": [
        "from google.colab import drive\n",
        "drive.mount('/content/drive/')"
      ],
      "execution_count": null,
      "outputs": [
        {
          "output_type": "stream",
          "text": [
            "Go to this URL in a browser: https://accounts.google.com/o/oauth2/auth?client_id=947318989803-6bn6qk8qdgf4n4g3pfee6491hc0brc4i.apps.googleusercontent.com&redirect_uri=urn%3aietf%3awg%3aoauth%3a2.0%3aoob&response_type=code&scope=email%20https%3a%2f%2fwww.googleapis.com%2fauth%2fdocs.test%20https%3a%2f%2fwww.googleapis.com%2fauth%2fdrive%20https%3a%2f%2fwww.googleapis.com%2fauth%2fdrive.photos.readonly%20https%3a%2f%2fwww.googleapis.com%2fauth%2fpeopleapi.readonly\n",
            "\n",
            "Enter your authorization code:\n",
            "··········\n",
            "Mounted at /content/drive/\n"
          ],
          "name": "stdout"
        }
      ]
    },
    {
      "cell_type": "code",
      "metadata": {
        "id": "pmW9JGMUgm6x",
        "colab_type": "code",
        "colab": {
          "base_uri": "https://localhost:8080/",
          "height": 221
        },
        "outputId": "2c47b064-f492-4ae6-c1e3-686895f1fb8d"
      },
      "source": [
        ""
      ],
      "execution_count": null,
      "outputs": [
        {
          "output_type": "stream",
          "text": [
            "'32 AOD II.pdf'\t\t\t     'New Doc 2020-01-11 13.30.52_1.pdf'\n",
            "'C final.docx'\t\t\t      ntpc.pdf\n",
            " Classroom\t\t\t      pos_data.pkl\n",
            "'Colab Notebooks'\t\t      receipt_DL07181910003526\n",
            " CV_RITIK.pdf\t\t\t      Ritik_CV-2.pdf\n",
            " dataset\t\t\t     'RITIK_CV_DTU (1).pdf'\n",
            " factorial.docx\t\t\t      RITIK_CV_DTU.pdf\n",
            "'How to get started with Drive.pdf'   Ritik-CV.pdf\n",
            " model.h5\t\t\t      RitikfinalCv.pdf\n",
            " model_weights.h5\t\t      RITIK_Includehelp.png\n",
            "'New Doc 2019-07-09 23.31.27.pdf'     scan0003.jpg\n",
            "'New Doc 2019-07-29 13.05.49.pdf'     word_data.pkl\n"
          ],
          "name": "stdout"
        }
      ]
    },
    {
      "cell_type": "code",
      "metadata": {
        "id": "Qlw8aywVgwvw",
        "colab_type": "code",
        "colab": {
          "base_uri": "https://localhost:8080/",
          "height": 187
        },
        "outputId": "c805903d-7290-45c5-c906-9d517ef1a3f5"
      },
      "source": [
        "import  pickle\n",
        "import numpy as np\n",
        "\n",
        "#make vector from pos_data.pkl\n",
        "s = \"/content/drive/My Drive/pos_data.pkl\"\n",
        "infile = open(s, 'rb')\n",
        "data = pickle.load(infile)\n",
        "infile.close()\n",
        "#print(data)\n",
        "\n",
        "data = data[ : 3000]\n",
        "            \n",
        "v_solution = []                        \n",
        "\n",
        "for list_ in data :\n",
        "    sentlist = []\n",
        "    for no in list_ :\n",
        "        arr = np.zeros((21))\n",
        "        arr[no]=1\n",
        "        sentlist.append(arr)\n",
        "    v_solution.append(sentlist)\n",
        "\n",
        "#make vector from sn.pkl\n",
        "# s = \"sn.pkl\"\n",
        "# infile = open(s, 'rb')\n",
        "# data = pickle.load(infile)\n",
        "# infile.close()\n",
        "\n",
        "# for list_ in data :\n",
        "#     sentlist = []\n",
        "#     for no in list_ :\n",
        "#         arr = np.zeros((22), dtype = int)\n",
        "#         arr[no]=1\n",
        "#         sentlist.append(arr)\n",
        "#     v_solution.append(sentlist)\n",
        "\n",
        "print(v_solution)\n",
        "\n",
        "\n",
        "\n",
        "#question2vector\n",
        "\n",
        "\n",
        "s = \"/content/drive/My Drive/word2index.pkl\"\n",
        "infile = open(s, 'rb')\n",
        "wordindex = pickle.load(infile)\n",
        "infile.close()\n",
        "#print(wordindex)\n",
        "wordindex[\"unk\"]= len(wordindex)                        #Add 'unk' to dictionary\n",
        "#print(wordindex)\n",
        "\n",
        "\n",
        "s = \"/content/drive/My Drive/word_data.pkl\"\n",
        "infile = open(s, 'rb')\n",
        "data = pickle.load(infile)\n",
        "infile.close()\n",
        "#print(data)\n",
        "data = data[:3000]\n",
        "for sent in data :\n",
        "    cnt = len(sent)\n",
        "    if cnt < 20 :                          #Add 'unk' to make questn length = 20\n",
        "        while cnt < 20 :\n",
        "            sent.append('unk')\n",
        "            cnt = cnt + 1\n",
        "\n",
        "v_question = []                         \n",
        "for sent in data :\n",
        "    sentlist = []\n",
        "    for wo in sent :\n",
        "        arr = np.zeros((len(wordindex)))\n",
        "        arr[wordindex[wo]] = 1\n",
        "        sentlist.append(arr)\n",
        "    sentlist = np.array(sentlist)\n",
        "    v_question.append(sentlist)\n",
        "\n",
        "\n",
        "#print(v_question)\n",
        "\n"
      ],
      "execution_count": null,
      "outputs": [
        {
          "output_type": "stream",
          "text": [
            "IOPub data rate exceeded.\n",
            "The notebook server will temporarily stop sending output\n",
            "to the client in order to avoid crashing it.\n",
            "To change this limit, set the config variable\n",
            "`--NotebookApp.iopub_data_rate_limit`.\n",
            "\n",
            "Current values:\n",
            "NotebookApp.iopub_data_rate_limit=1000000.0 (bytes/sec)\n",
            "NotebookApp.rate_limit_window=3.0 (secs)\n",
            "\n"
          ],
          "name": "stderr"
        }
      ]
    },
    {
      "cell_type": "code",
      "metadata": {
        "id": "02w-mGd9gwv4",
        "colab_type": "code",
        "colab": {}
      },
      "source": [
        "v_solution = np.array(v_solution)\n",
        "v_question = np.array(v_question)"
      ],
      "execution_count": null,
      "outputs": []
    },
    {
      "cell_type": "code",
      "metadata": {
        "id": "7nsVpcO3iYNw",
        "colab_type": "code",
        "colab": {}
      },
      "source": [
        ""
      ],
      "execution_count": null,
      "outputs": []
    },
    {
      "cell_type": "code",
      "metadata": {
        "id": "6LsBunlFinRD",
        "colab_type": "code",
        "colab": {}
      },
      "source": [
        ""
      ],
      "execution_count": null,
      "outputs": []
    },
    {
      "cell_type": "code",
      "metadata": {
        "id": "Q1aOYTm-gwwA",
        "colab_type": "code",
        "colab": {
          "base_uri": "https://localhost:8080/",
          "height": 34
        },
        "outputId": "5a3d45fa-1167-45ca-a158-04bedff776e8"
      },
      "source": [
        "v_solution.shape, v_question.shape"
      ],
      "execution_count": null,
      "outputs": [
        {
          "output_type": "execute_result",
          "data": {
            "text/plain": [
              "((3000, 11, 21), (3000, 20, 2205))"
            ]
          },
          "metadata": {
            "tags": []
          },
          "execution_count": 29
        }
      ]
    },
    {
      "cell_type": "code",
      "metadata": {
        "id": "PVVbuhnDilg7",
        "colab_type": "code",
        "colab": {}
      },
      "source": [
        "import numpy as np\n",
        "from tensorflow.keras.models import Sequential\n",
        "from tensorflow.keras.layers import Dense, Input, Dropout, SimpleRNN,LSTM, Activation"
      ],
      "execution_count": null,
      "outputs": []
    },
    {
      "cell_type": "code",
      "metadata": {
        "id": "Agsmw8zcinGa",
        "colab_type": "code",
        "colab": {
          "base_uri": "https://localhost:8080/",
          "height": 425
        },
        "outputId": "8d50c301-7d54-46d1-ac44-3870b66bf40b"
      },
      "source": [
        "model = Sequential()\n",
        "\n",
        "model.add(LSTM(2048, input_shape = (20, 2205), return_sequences = True))\n",
        "model.add(LSTM(512, return_sequences = True))\n",
        "model.add(Dropout(0.5))\n",
        "model.add(LSTM(1024, return_sequences = False))\n",
        "model.add(Dropout(0.3))\n",
        "model.add(Dense(256, activation = 'relu'))\n",
        "model.add(Dense(21, activation = 'relu'))\n",
        "model.add(Activation('softmax'))\n",
        "\n",
        "model.summary()"
      ],
      "execution_count": null,
      "outputs": [
        {
          "output_type": "stream",
          "text": [
            "Model: \"sequential_1\"\n",
            "_________________________________________________________________\n",
            "Layer (type)                 Output Shape              Param #   \n",
            "=================================================================\n",
            "lstm_3 (LSTM)                (None, 20, 2048)          34848768  \n",
            "_________________________________________________________________\n",
            "lstm_4 (LSTM)                (None, 20, 512)           5244928   \n",
            "_________________________________________________________________\n",
            "dropout_2 (Dropout)          (None, 20, 512)           0         \n",
            "_________________________________________________________________\n",
            "lstm_5 (LSTM)                (None, 1024)              6295552   \n",
            "_________________________________________________________________\n",
            "dropout_3 (Dropout)          (None, 1024)              0         \n",
            "_________________________________________________________________\n",
            "dense_2 (Dense)              (None, 256)               262400    \n",
            "_________________________________________________________________\n",
            "dense_3 (Dense)              (None, 21)                5397      \n",
            "_________________________________________________________________\n",
            "activation_1 (Activation)    (None, 21)                0         \n",
            "=================================================================\n",
            "Total params: 46,657,045\n",
            "Trainable params: 46,657,045\n",
            "Non-trainable params: 0\n",
            "_________________________________________________________________\n"
          ],
          "name": "stdout"
        }
      ]
    },
    {
      "cell_type": "code",
      "metadata": {
        "id": "vqTbIGlWi54A",
        "colab_type": "code",
        "colab": {
          "base_uri": "https://localhost:8080/",
          "height": 34
        },
        "outputId": "3ae527e0-2cad-47cf-c9be-09f5133d78d0"
      },
      "source": [
        "y_data = np.zeros((3000, 21))\n",
        "y_data.shape"
      ],
      "execution_count": null,
      "outputs": [
        {
          "output_type": "execute_result",
          "data": {
            "text/plain": [
              "(3000, 21)"
            ]
          },
          "metadata": {
            "tags": []
          },
          "execution_count": 32
        }
      ]
    },
    {
      "cell_type": "code",
      "metadata": {
        "id": "Q_aQm8KnjhfN",
        "colab_type": "code",
        "colab": {}
      },
      "source": [
        "for ix in range(3000):\n",
        "  y_data[ix] = v_solution[ix][1]"
      ],
      "execution_count": null,
      "outputs": []
    },
    {
      "cell_type": "code",
      "metadata": {
        "id": "6_hQkRffjzqm",
        "colab_type": "code",
        "colab": {
          "base_uri": "https://localhost:8080/",
          "height": 34
        },
        "outputId": "e341fefc-44f7-4468-a2ab-3c334f56fb7f"
      },
      "source": [
        "print(y_data[2000])"
      ],
      "execution_count": null,
      "outputs": [
        {
          "output_type": "stream",
          "text": [
            "[0. 0. 0. 0. 0. 0. 0. 0. 1. 0. 0. 0. 0. 0. 0. 0. 0. 0. 0. 0. 0.]\n"
          ],
          "name": "stdout"
        }
      ]
    },
    {
      "cell_type": "code",
      "metadata": {
        "id": "zqVPB-RAkB4H",
        "colab_type": "code",
        "colab": {}
      },
      "source": [
        "model.compile(optimizer='adam', metrics = ['accuracy'], loss = 'categorical_crossentropy')"
      ],
      "execution_count": null,
      "outputs": []
    },
    {
      "cell_type": "code",
      "metadata": {
        "id": "uYHuJzaAkbQg",
        "colab_type": "code",
        "colab": {
          "base_uri": "https://localhost:8080/",
          "height": 1000
        },
        "outputId": "45d48a3d-bbc1-467b-cc86-8f3ae3d04709"
      },
      "source": [
        "history = model.fit(v_question, y_data,batch_size=32, epochs = 40)"
      ],
      "execution_count": null,
      "outputs": [
        {
          "output_type": "stream",
          "text": [
            "Epoch 1/40\n",
            "94/94 [==============================] - 15s 161ms/step - loss: 1.7261 - accuracy: 0.5830\n",
            "Epoch 2/40\n",
            "94/94 [==============================] - 15s 160ms/step - loss: 1.6166 - accuracy: 0.6233\n",
            "Epoch 3/40\n",
            "94/94 [==============================] - 15s 160ms/step - loss: 1.6189 - accuracy: 0.6123\n",
            "Epoch 4/40\n",
            "94/94 [==============================] - 15s 160ms/step - loss: 1.6122 - accuracy: 0.6207\n",
            "Epoch 5/40\n",
            "94/94 [==============================] - 15s 161ms/step - loss: 1.6117 - accuracy: 0.6170\n",
            "Epoch 6/40\n",
            "94/94 [==============================] - 15s 161ms/step - loss: 1.6089 - accuracy: 0.6103\n",
            "Epoch 7/40\n",
            "94/94 [==============================] - 15s 162ms/step - loss: 1.6131 - accuracy: 0.6110\n",
            "Epoch 8/40\n",
            "94/94 [==============================] - 15s 161ms/step - loss: 1.6061 - accuracy: 0.6120\n",
            "Epoch 9/40\n",
            "94/94 [==============================] - 15s 161ms/step - loss: 1.6062 - accuracy: 0.6077\n",
            "Epoch 10/40\n",
            "94/94 [==============================] - 15s 160ms/step - loss: 1.8682 - accuracy: 0.6363\n",
            "Epoch 11/40\n",
            "94/94 [==============================] - 15s 159ms/step - loss: 2.1110 - accuracy: 0.6133\n",
            "Epoch 12/40\n",
            "94/94 [==============================] - 15s 159ms/step - loss: 2.1109 - accuracy: 0.6133\n",
            "Epoch 13/40\n",
            "94/94 [==============================] - 15s 160ms/step - loss: 2.1109 - accuracy: 0.6133\n",
            "Epoch 14/40\n",
            "94/94 [==============================] - 15s 160ms/step - loss: 2.1109 - accuracy: 0.6133\n",
            "Epoch 15/40\n",
            "94/94 [==============================] - 15s 159ms/step - loss: 2.1109 - accuracy: 0.6133\n",
            "Epoch 16/40\n",
            "94/94 [==============================] - 15s 159ms/step - loss: 2.1109 - accuracy: 0.6133\n",
            "Epoch 17/40\n",
            "94/94 [==============================] - 15s 159ms/step - loss: 2.1109 - accuracy: 0.6133\n",
            "Epoch 18/40\n",
            "94/94 [==============================] - 15s 159ms/step - loss: 2.1109 - accuracy: 0.6133\n",
            "Epoch 19/40\n",
            "94/94 [==============================] - 15s 159ms/step - loss: 2.1109 - accuracy: 0.6133\n",
            "Epoch 20/40\n",
            "94/94 [==============================] - 15s 159ms/step - loss: 2.1109 - accuracy: 0.6133\n",
            "Epoch 21/40\n",
            "94/94 [==============================] - 15s 159ms/step - loss: 2.1109 - accuracy: 0.6133\n",
            "Epoch 22/40\n",
            "94/94 [==============================] - 15s 159ms/step - loss: 2.1109 - accuracy: 0.6133\n",
            "Epoch 23/40\n",
            "94/94 [==============================] - 15s 159ms/step - loss: 2.1109 - accuracy: 0.6133\n",
            "Epoch 24/40\n",
            "94/94 [==============================] - 15s 159ms/step - loss: 2.1109 - accuracy: 0.6133\n",
            "Epoch 25/40\n",
            "94/94 [==============================] - 15s 159ms/step - loss: 2.1109 - accuracy: 0.6133\n",
            "Epoch 26/40\n",
            "94/94 [==============================] - 15s 159ms/step - loss: 2.1109 - accuracy: 0.6133\n",
            "Epoch 27/40\n",
            "94/94 [==============================] - 15s 159ms/step - loss: 2.1109 - accuracy: 0.6133\n",
            "Epoch 28/40\n",
            "94/94 [==============================] - 15s 159ms/step - loss: 2.1109 - accuracy: 0.6133\n",
            "Epoch 29/40\n",
            "94/94 [==============================] - 15s 159ms/step - loss: 2.1109 - accuracy: 0.6133\n",
            "Epoch 30/40\n",
            "94/94 [==============================] - 15s 159ms/step - loss: 2.1109 - accuracy: 0.6133\n",
            "Epoch 31/40\n",
            "94/94 [==============================] - 15s 159ms/step - loss: 2.1109 - accuracy: 0.6133\n",
            "Epoch 32/40\n",
            "94/94 [==============================] - 15s 159ms/step - loss: 2.1109 - accuracy: 0.6133\n",
            "Epoch 33/40\n",
            "94/94 [==============================] - 15s 159ms/step - loss: 2.1109 - accuracy: 0.6133\n",
            "Epoch 34/40\n",
            "94/94 [==============================] - 15s 159ms/step - loss: 2.1109 - accuracy: 0.6133\n",
            "Epoch 35/40\n",
            "94/94 [==============================] - 15s 159ms/step - loss: 2.1109 - accuracy: 0.6133\n",
            "Epoch 36/40\n",
            "94/94 [==============================] - 15s 159ms/step - loss: 2.1109 - accuracy: 0.6133\n",
            "Epoch 37/40\n",
            "94/94 [==============================] - 15s 159ms/step - loss: 2.1109 - accuracy: 0.6133\n",
            "Epoch 38/40\n",
            "94/94 [==============================] - 15s 160ms/step - loss: 2.1109 - accuracy: 0.6133\n",
            "Epoch 39/40\n",
            "94/94 [==============================] - 15s 160ms/step - loss: 2.1109 - accuracy: 0.6133\n",
            "Epoch 40/40\n",
            "94/94 [==============================] - 15s 159ms/step - loss: 2.1109 - accuracy: 0.6133\n"
          ],
          "name": "stdout"
        }
      ]
    },
    {
      "cell_type": "code",
      "metadata": {
        "id": "LAPWjsG8gs-I",
        "colab_type": "code",
        "colab": {
          "base_uri": "https://localhost:8080/",
          "height": 295
        },
        "outputId": "49a78882-1e4b-47e5-d876-587c620392e5"
      },
      "source": [
        "import matplotlib.pyplot as plt\n",
        "plt.plot(history.history['accuracy'])\n",
        "plt.xlabel('epochs')\n",
        "plt.ylabel('accuracy')\n",
        "plt.title('Model Accuracy ')\n",
        "plt.show()"
      ],
      "execution_count": null,
      "outputs": [
        {
          "output_type": "display_data",
          "data": {
            "image/png": "[encoded data removed]",
            "text/plain": [
              "<Figure size 432x288 with 1 Axes>"
            ]
          },
          "metadata": {
            "tags": [],
            "needs_background": "light"
          }
        }
      ]
    }
  ]
}