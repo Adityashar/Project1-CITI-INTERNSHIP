{
 "cells": [
  {
   "cell_type": "code",
   "execution_count": 1,
   "metadata": {},
   "outputs": [],
   "source": [
    "import numpy as np\n",
    "import pandas as pd\n",
    "import os\n",
    "import json\n",
    "import markdown"
   ]
  },
  {
   "cell_type": "code",
   "execution_count": 2,
   "metadata": {},
   "outputs": [],
   "source": [
    "def new_data():\n",
    "    # get the name of the new dataset file\n",
    "    \n",
    "    directory = '/home/aditya/Documents/citibot/newdata'\n",
    "    data_name = \"table.csv\"\n",
    "    DATASET_LOC = os.path.join(directory, data_name)\n",
    "\n",
    "    # read the data file - csv, excel and json\n",
    "\n",
    "    if data_name.endswith('.csv'):\n",
    "        DATASET = pd.read_csv(DATASET_LOC)\n",
    "    elif data_name.endswith('.xlx') or data_name.endswith('.xlsx'):\n",
    "        DATASET = pd.read_excel(DATASET_LOC)\n",
    "    elif data_name.endswith('.json'):\n",
    "        DATASET = pd.DataFrame(json.load(open(DATASET_LOC, 'r')), index =[1])\n",
    "    return DATASET"
   ]
  },
  {
   "cell_type": "code",
   "execution_count": 3,
   "metadata": {},
   "outputs": [
    {
     "data": {
      "text/html": [
       "<div>\n",
       "<style scoped>\n",
       "    .dataframe tbody tr th:only-of-type {\n",
       "        vertical-align: middle;\n",
       "    }\n",
       "\n",
       "    .dataframe tbody tr th {\n",
       "        vertical-align: top;\n",
       "    }\n",
       "\n",
       "    .dataframe thead th {\n",
       "        text-align: right;\n",
       "    }\n",
       "</style>\n",
       "<table border=\"1\" class=\"dataframe\">\n",
       "  <thead>\n",
       "    <tr style=\"text-align: right;\">\n",
       "      <th></th>\n",
       "      <th>Specimen No</th>\n",
       "      <th>WORKING GAP IN MM</th>\n",
       "      <th>Magnetic tool Rotational Speed</th>\n",
       "      <th>Finishing Time (sec)</th>\n",
       "      <th>Feed mm/min</th>\n",
       "      <th>Unnamed: 5</th>\n",
       "      <th>Output</th>\n",
       "    </tr>\n",
       "  </thead>\n",
       "  <tbody>\n",
       "    <tr>\n",
       "      <th>0</th>\n",
       "      <td>SPECIMEN1</td>\n",
       "      <td>1.0</td>\n",
       "      <td>300.0</td>\n",
       "      <td>36.0</td>\n",
       "      <td>1.25</td>\n",
       "      <td>10</td>\n",
       "      <td>0.0027</td>\n",
       "    </tr>\n",
       "    <tr>\n",
       "      <th>1</th>\n",
       "      <td>SPECIMEN2</td>\n",
       "      <td>2.0</td>\n",
       "      <td>450.0</td>\n",
       "      <td>48.0</td>\n",
       "      <td>1.25</td>\n",
       "      <td>10</td>\n",
       "      <td>0.0029</td>\n",
       "    </tr>\n",
       "    <tr>\n",
       "      <th>2</th>\n",
       "      <td>SPECIMEN3</td>\n",
       "      <td>5.0</td>\n",
       "      <td>600.0</td>\n",
       "      <td>64.0</td>\n",
       "      <td>1.25</td>\n",
       "      <td>10</td>\n",
       "      <td>0.0022</td>\n",
       "    </tr>\n",
       "    <tr>\n",
       "      <th>3</th>\n",
       "      <td>SPECIMEN4</td>\n",
       "      <td>1.0</td>\n",
       "      <td>300.0</td>\n",
       "      <td>48.0</td>\n",
       "      <td>1.66</td>\n",
       "      <td>20</td>\n",
       "      <td>0.0008</td>\n",
       "    </tr>\n",
       "    <tr>\n",
       "      <th>4</th>\n",
       "      <td>SPECIMEN5</td>\n",
       "      <td>2.0</td>\n",
       "      <td>450.0</td>\n",
       "      <td>64.0</td>\n",
       "      <td>1.66</td>\n",
       "      <td>20</td>\n",
       "      <td>0.0012</td>\n",
       "    </tr>\n",
       "  </tbody>\n",
       "</table>\n",
       "</div>"
      ],
      "text/plain": [
       "  Specimen No  WORKING GAP IN MM  Magnetic tool Rotational Speed  \\\n",
       "0   SPECIMEN1                1.0                           300.0   \n",
       "1   SPECIMEN2                2.0                           450.0   \n",
       "2   SPECIMEN3                5.0                           600.0   \n",
       "3   SPECIMEN4                1.0                           300.0   \n",
       "4   SPECIMEN5                2.0                           450.0   \n",
       "\n",
       "   Finishing Time (sec)  Feed mm/min  Unnamed: 5  Output  \n",
       "0                  36.0         1.25          10  0.0027  \n",
       "1                  48.0         1.25          10  0.0029  \n",
       "2                  64.0         1.25          10  0.0022  \n",
       "3                  48.0         1.66          20  0.0008  \n",
       "4                  64.0         1.66          20  0.0012  "
      ]
     },
     "execution_count": 3,
     "metadata": {},
     "output_type": "execute_result"
    }
   ],
   "source": [
    "# This function should be triggered by a listener\n",
    "\n",
    "DATASET = new_data()\n",
    "DATASET.head()"
   ]
  },
  {
   "cell_type": "code",
   "execution_count": 4,
   "metadata": {},
   "outputs": [],
   "source": [
    "# dict of columns in new data with corresponding dtypes\n",
    "\n",
    "DATASET['Specimen No'] = DATASET['Specimen No'].astype('str')\n",
    "DATASET.columns =[\"column \" + str(i) for i, column in enumerate(DATASET.columns)] \n",
    "DATASET.columns =[column.replace(\" \", \"_\") for column in DATASET.columns] \n",
    "\n",
    "FEATURES = {col: DATASET[col].dtype for col in DATASET}"
   ]
  },
  {
   "cell_type": "code",
   "execution_count": 5,
   "metadata": {},
   "outputs": [],
   "source": [
    "# List all the possible entities \n",
    "def get_entities():\n",
    "    threshold_value = 20\n",
    "    PRIMARY_KEY = []\n",
    "    ENTITIES = {}\n",
    "\n",
    "    for col in FEATURES.keys():\n",
    "\n",
    "        if (DATASET[col].unique().shape[0] == DATASET.shape[0]) and (FEATURES[col] == 'O' or FEATURES[col] == 'int64'):           \n",
    "            PRIMARY_KEY.append(col)                                             # Make this the PRIMARY KEY\n",
    "            ENTITIES[col] = DATASET[col].unique()[:threshold_value].tolist()\n",
    "\n",
    "        elif DATASET[col].unique().shape[0] > threshold_value and (FEATURES[col] == 'O' or FEATURES[col] == 'int64'):\n",
    "            ENTITIES[col] = DATASET[col].unique()[:threshold_value].tolist()\n",
    "\n",
    "        elif FEATURES[col] == 'O' or FEATURES[col] == 'int64':\n",
    "            ENTITIES[col] = DATASET[col].unique().tolist()\n",
    "    return ENTITIES"
   ]
  },
  {
   "cell_type": "code",
   "execution_count": 6,
   "metadata": {},
   "outputs": [],
   "source": [
    "ENTITIES = get_entities()"
   ]
  },
  {
   "cell_type": "code",
   "execution_count": 10,
   "metadata": {},
   "outputs": [],
   "source": [
    "# For query generation, any number of previously determined entities (values) can be used.\n",
    "# For each intent, what should differ between the different sets of queries is the meaning the latter conveys.\n",
    "# For eg if we have an intent \"Cost\", it should have questions like :\n",
    "# what is the cost {intent} for entity_1{value} ?\n",
    "# Since we have to use the intent / Feature name as a part of the query itself, an important thing to conside is \n",
    "# that the feature names should be simple and directly convey their purpose\n",
    "# For eg, feature name can be \"cost\" but if the feature name is \"cost per head\" then we the issue is that\n",
    "# the intent name wont be the same as the feature name, once this happens we'll have to extract the real intent \n",
    "# from the feature names which is not possible to do right now.\n",
    "\n",
    "def get_questions(intent):\n",
    "    questions = []\n",
    "    questions.append(\"what is {}\".format(intent))\n",
    "    questions.append(\"Tell me something about {}\".format(intent))\n",
    "    questions.append(\"Give me information about {}\".format(intent))\n",
    "    \n",
    "    return questions"
   ]
  },
  {
   "cell_type": "code",
   "execution_count": 13,
   "metadata": {},
   "outputs": [
    {
     "data": {
      "text/plain": [
       "{'column_0': ['what is column_0',\n",
       "  'Tell me something about column_0',\n",
       "  'Give me information about column_0'],\n",
       " 'column_1': ['what is column_1',\n",
       "  'Tell me something about column_1',\n",
       "  'Give me information about column_1'],\n",
       " 'column_2': ['what is column_2',\n",
       "  'Tell me something about column_2',\n",
       "  'Give me information about column_2'],\n",
       " 'column_3': ['what is column_3',\n",
       "  'Tell me something about column_3',\n",
       "  'Give me information about column_3'],\n",
       " 'column_4': ['what is column_4',\n",
       "  'Tell me something about column_4',\n",
       "  'Give me information about column_4'],\n",
       " 'column_5': ['what is column_5',\n",
       "  'Tell me something about column_5',\n",
       "  'Give me information about column_5'],\n",
       " 'column_6': ['what is column_6',\n",
       "  'Tell me something about column_6',\n",
       "  'Give me information about column_6']}"
      ]
     },
     "execution_count": 13,
     "metadata": {},
     "output_type": "execute_result"
    }
   ],
   "source": [
    "# Dict of intents having a list of questions as their values.\n",
    "\n",
    "INTENTS = {col:get_questions(col) for col in FEATURES.keys()}\n",
    "INTENTS"
   ]
  },
  {
   "cell_type": "code",
   "execution_count": 92,
   "metadata": {},
   "outputs": [
    {
     "data": {
      "text/plain": [
       "['',\n",
       " ' intent:greet\\n- hey\\n- hello\\n- hi\\n- good morning\\n- good evening\\n- hey there\\n\\n',\n",
       " ' intent:hello_world\\n- hello world\\n- programming\\n- c++\\n- java\\n\\n',\n",
       " ' intent:goodbye\\n- bye\\n- goodbye\\n- see you around\\n- see you later\\n\\n',\n",
       " ' intent:affirm\\n- yes\\n- indeed\\n- of course\\n- that sounds good\\n- correct\\n\\n',\n",
       " \" intent:deny\\n- no\\n- never\\n- I don't think so\\n- don't like that\\n- no way\\n- not really\\n\\n\",\n",
       " \" intent:mood_great\\n- perfect\\n- very good\\n- great\\n- amazing\\n- wonderful\\n- I am feeling very good\\n- I am great\\n- I'm good\\n\\n\",\n",
       " ' intent:mood_unhappy\\n- sad\\n- very sad\\n- unhappy\\n- bad\\n- very bad\\n- awful\\n- terrible\\n- not very good\\n- extremely sad\\n- so sad\\n\\n',\n",
       " ' intent:bot_challenge\\n- are you a bot?\\n- are you a human?\\n- am I talking to a bot?\\n- am I talking to a human?\\n\\n',\n",
       " ' intent:mycolor\\n- I will choose the color [green](color)\\n- how is [blue](color)\\n- color is [black](color)\\n- color was [blue](color)\\n\\n',\n",
       " ' lookup:color\\n- green\\n- black\\n- blue\\n- red \\n- orange\\n\\n',\n",
       " ' lookup:location\\n- rajasthan\\n- uttar Pradesh\\n- haryana\\n- madhya Pradesh\\n- telangana\\n- punjab\\n- kerala\\n- karnataka\\n- maharashtra\\n\\n',\n",
       " ' intent:corona_state\\n- Give me details about [Karnataka](location)\\n- Give me details about [haryana](location)\\n- What is covid stats of [Kerala](location)\\n- covid stats of [Tamil Nadu](location)\\n- covid stats of [rajasthan](location)\\n- covid stats of [maharashtra](location)\\n\\n',\n",
       " ' intent:mydate\\n- what was the day on [2 january](date)\\n- what was the day on [22/10/20](date)\\n- what was the day on [29-11-1991](date)\\n- today is [10-3-2020](date)\\n']"
      ]
     },
     "execution_count": 92,
     "metadata": {},
     "output_type": "execute_result"
    }
   ],
   "source": [
    "mdf = open('/home/aditya/Documents/citibot/newdata/nlu.md', 'r')\n",
    "# markdown.markdown(mdf.read())\n",
    "s=mdf.read().split('##')\n",
    "s"
   ]
  },
  {
   "cell_type": "code",
   "execution_count": 104,
   "metadata": {},
   "outputs": [],
   "source": [
    "h, p = \"heyaaaa\", \"how\"\n",
    "string = \"\"\n",
    "\n",
    "string1 = \" intent:{}\\n\".format(h)\n",
    "string1 += \"- {}\\n\".format(p)\n",
    "string1 += \"\\n\"\n",
    "\n",
    "string2 = \" intent:{}\\n\".format(p)\n",
    "string2 += \"- {}\\n\".format(h)\n",
    "string2 += \"\\n\"\n",
    "\n",
    "\n",
    "v = '##'.join([string, string1, string2])"
   ]
  },
  {
   "cell_type": "code",
   "execution_count": 105,
   "metadata": {},
   "outputs": [],
   "source": [
    "f = open(\"demofile2.md\", \"w\")\n",
    "f.write(v)\n",
    "f.close()"
   ]
  },
  {
   "cell_type": "code",
   "execution_count": null,
   "metadata": {},
   "outputs": [],
   "source": []
  }
 ],
 "metadata": {
  "kernelspec": {
   "display_name": "Python 3",
   "language": "python",
   "name": "python3"
  },
  "language_info": {
   "codemirror_mode": {
    "name": "ipython",
    "version": 3
   },
   "file_extension": ".py",
   "mimetype": "text/x-python",
   "name": "python",
   "nbconvert_exporter": "python",
   "pygments_lexer": "ipython3",
   "version": "3.7.3"
  }
 },
 "nbformat": 4,
 "nbformat_minor": 2
}
